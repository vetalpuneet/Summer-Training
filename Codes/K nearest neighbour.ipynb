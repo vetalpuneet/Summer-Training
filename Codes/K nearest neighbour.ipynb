{
 "cells": [
  {
   "cell_type": "code",
   "execution_count": 12,
   "metadata": {},
   "outputs": [],
   "source": [
    "import math"
   ]
  },
  {
   "cell_type": "code",
   "execution_count": 19,
   "metadata": {},
   "outputs": [],
   "source": [
    "def classifyAPoint(points,p,k=3):\n",
    "    distance = []\n",
    "    for group in points:\n",
    "        for feature in points[group]:\n",
    "            euclidean_distance = math.sqrt((feature[0]-p[0])**2 +(feature[1]-p[1])**2)\n",
    "            distance.append((euclidean_distance,group))\n",
    "    distance = sorted(distance)[:k]\n",
    "    freq1=0\n",
    "    freq2=0\n",
    "    for ele in distance:\n",
    "        if ele[1] == 0:\n",
    "            freq1 += 1\n",
    "        else:\n",
    "            freq2 += 2\n",
    "        if freq1>freq2:\n",
    "            return 0\n",
    "        else:\n",
    "            return 1"
   ]
  },
  {
   "cell_type": "code",
   "execution_count": 20,
   "metadata": {},
   "outputs": [],
   "source": [
    "def main():\n",
    "    points = {0:((1,12),(2,5),(3,6),(3,10),(3.5,8),(2,11),(2,9),(1,7)),\n",
    "              1:((5,3),(3,2),(1.5,9),(7,2),(6,1),(3.8,1),(5.6,4),(4,2),(2,5))}\n",
    "    p = (2.5,7)\n",
    "    k = 3\n",
    "    print(\"The value classified to unknown point is: {}\".\\\n",
    "          format(classifyAPoint(points,p,k)))"
   ]
  },
  {
   "cell_type": "code",
   "execution_count": 21,
   "metadata": {},
   "outputs": [
    {
     "name": "stdout",
     "output_type": "stream",
     "text": [
      "The value classified to unknown point is: 0\n"
     ]
    }
   ],
   "source": [
    "if __name__ == '__main__':\n",
    "    main()"
   ]
  },
  {
   "cell_type": "code",
   "execution_count": null,
   "metadata": {},
   "outputs": [],
   "source": []
  }
 ],
 "metadata": {
  "kernelspec": {
   "display_name": "Python 3",
   "language": "python",
   "name": "python3"
  },
  "language_info": {
   "codemirror_mode": {
    "name": "ipython",
    "version": 3
   },
   "file_extension": ".py",
   "mimetype": "text/x-python",
   "name": "python",
   "nbconvert_exporter": "python",
   "pygments_lexer": "ipython3",
   "version": "3.6.4"
  }
 },
 "nbformat": 4,
 "nbformat_minor": 2
}
