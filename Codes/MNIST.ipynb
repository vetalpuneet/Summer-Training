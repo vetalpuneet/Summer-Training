{
 "cells": [
  {
   "cell_type": "code",
   "execution_count": 79,
   "metadata": {},
   "outputs": [],
   "source": [
    "import numpy as np\n",
    "import pandas as pd\n",
    "import matplotlib.pyplot as plt\n",
    "%matplotlib inline\n",
    "from keras.datasets import mnist\n",
    "from keras.models import Sequential\n",
    "from keras.layers import Dense, Dropout, Activation, Flatten\n",
    "from keras.optimizers import Adam\n",
    "from keras.layers.normalization import BatchNormalization\n",
    "from keras.utils import np_utils\n",
    "from keras.layers import Conv2D, MaxPooling2D, ZeroPadding2D, GlobalAveragePooling2D\n",
    "from keras.layers.advanced_activations import LeakyReLU \n",
    "from keras.preprocessing.image import ImageDataGenerator\n",
    "\n",
    "np.random.seed(25)"
   ]
  },
  {
   "cell_type": "code",
   "execution_count": 80,
   "metadata": {},
   "outputs": [],
   "source": [
    "def load_data():\n",
    "    (X_train, y_train), (X_test, y_test) = mnist.load_data()\n",
    "    print(\"X_train original shape\", X_train.shape)\n",
    "    print(\"y_train original shape\", y_train.shape)\n",
    "    print(\"X_test original shape\", X_test.shape)\n",
    "    print(\"y_test original shape\", y_test.shape)\n",
    "    return X_train, y_train, X_test, y_test"
   ]
  },
  {
   "cell_type": "code",
   "execution_count": 81,
   "metadata": {},
   "outputs": [],
   "source": [
    "def show(i, X_train, y_train):\n",
    "    plt.imshow(X_train[i], cmap='gray')\n",
    "    plt.title('Class '+ str(y_train[i]))"
   ]
  },
  {
   "cell_type": "code",
   "execution_count": 82,
   "metadata": {},
   "outputs": [],
   "source": [
    "#(batches, height, widhth, channel)\n",
    "def reshape(X_train, X_test):\n",
    "    X_train = X_train.reshape(X_train.shape[0], 28, 28, 1)\n",
    "    X_test = X_test.reshape(X_test.shape[0], 28, 28, 1)\n",
    "    return X_train, X_test"
   ]
  },
  {
   "cell_type": "code",
   "execution_count": 83,
   "metadata": {},
   "outputs": [],
   "source": [
    "#Here we’ve rescaled the image data so that each pixel lies in the interval [0, 1] instead of [0, 255]. It is always a good idea to normalize the input so that each dimension has approximately the same scale.\n",
    "def rescale(X_train, X_test):\n",
    "    X_train = X_train.astype('float32')\n",
    "    X_test = X_test.astype('float32')\n",
    "    X_train/=255\n",
    "    X_test/=255\n",
    "    print('New shape of X_train is: ', X_train.shape)\n",
    "    return X_train, X_test"
   ]
  },
  {
   "cell_type": "code",
   "execution_count": 84,
   "metadata": {},
   "outputs": [],
   "source": [
    "def one_hot_encoding(i, y_train, y_test):\n",
    "    number_of_classes = 10\n",
    "    Y_train = np_utils.to_categorical(y_train, number_of_classes)\n",
    "    Y_test = np_utils.to_categorical(y_test, number_of_classes)\n",
    "    print('Before one hot encoding: ', y_train[i])\n",
    "    print('After one hot encoding: ', Y_train[i])\n",
    "    return Y_train, Y_test"
   ]
  },
  {
   "cell_type": "code",
   "execution_count": 85,
   "metadata": {},
   "outputs": [],
   "source": [
    "def CNN_model(X_train, X_test, Y_train, Y_test, e):\n",
    "    model = Sequential()\n",
    "    model.add(Conv2D(32, (3, 3), input_shape=(28,28,1)))\n",
    "    model.add(Activation('relu'))\n",
    "    BatchNormalization(axis=-1)\n",
    "    model.add(Conv2D(32, (3, 3)))\n",
    "    model.add(Activation('relu'))\n",
    "    model.add(MaxPooling2D(pool_size=(2,2)))\n",
    "\n",
    "    BatchNormalization(axis=-1)\n",
    "    model.add(Conv2D(64,(3, 3)))\n",
    "    model.add(Activation('relu'))\n",
    "    BatchNormalization(axis=-1)\n",
    "    model.add(Conv2D(64, (3, 3)))\n",
    "    model.add(Activation('relu'))\n",
    "    model.add(MaxPooling2D(pool_size=(2,2)))\n",
    "\n",
    "    model.add(Flatten())\n",
    "    # Fully connected layer\n",
    "\n",
    "    BatchNormalization()\n",
    "    model.add(Dense(512))\n",
    "    model.add(Activation('relu'))\n",
    "    BatchNormalization()\n",
    "    model.add(Dropout(0.2))\n",
    "    model.add(Dense(10))\n",
    "\n",
    "    model.add(Activation('softmax'))\n",
    "    model.compile(loss='categorical_crossentropy', optimizer=Adam(), metrics=['accuracy'])\n",
    "    #to reduce overfitting : data augmentation\n",
    "    gen = ImageDataGenerator(rotation_range=8, width_shift_range=0.08, shear_range=0.3,\n",
    "                         height_shift_range=0.08, zoom_range=0.08)\n",
    "\n",
    "    test_gen = ImageDataGenerator()\n",
    "    train_generator = gen.flow(X_train, Y_train, batch_size=64)\n",
    "    test_generator = test_gen.flow(X_test, Y_test, batch_size=64)\n",
    "    model.fit_generator(train_generator, steps_per_epoch=60000//64, epochs=e, \n",
    "                    validation_data=test_generator, validation_steps=10000//64)\n",
    "    return model"
   ]
  },
  {
   "cell_type": "code",
   "execution_count": 86,
   "metadata": {},
   "outputs": [],
   "source": [
    "def accuracy(X_test, Y_test, model):\n",
    "    score = model.evaluate(X_test, Y_test)\n",
    "    print()\n",
    "    print('Test accuracy: ', score[1] * 100)"
   ]
  },
  {
   "cell_type": "code",
   "execution_count": 89,
   "metadata": {},
   "outputs": [],
   "source": [
    "def main():\n",
    "    X_train, y_train, X_test, y_test = load_data()\n",
    "    i = 1\n",
    "    show(i, X_train, y_train)\n",
    "    X_train, X_test = reshape(X_train, X_test)\n",
    "    X_train, X_test = rescale(X_train, X_test)\n",
    "    Y_train, Y_test = one_hot_encoding(i, y_train, y_test)\n",
    "    # epochs = 3\n",
    "    e = 2\n",
    "    model = CNN_model(X_train, X_test, Y_train, Y_test, e)\n",
    "    accuracy(X_test, Y_test, model)"
   ]
  },
  {
   "cell_type": "code",
   "execution_count": 90,
   "metadata": {},
   "outputs": [
    {
     "name": "stdout",
     "output_type": "stream",
     "text": [
      "X_train original shape (60000, 28, 28)\n",
      "y_train original shape (60000,)\n",
      "X_test original shape (10000, 28, 28)\n",
      "y_test original shape (10000,)\n",
      "New shape of X_train is:  (60000, 28, 28, 1)\n",
      "Before one hot encoding:  0\n",
      "After one hot encoding:  [1. 0. 0. 0. 0. 0. 0. 0. 0. 0.]\n",
      "Epoch 1/2\n",
      "937/937 [==============================] - 328s 350ms/step - loss: 0.2055 - acc: 0.9346 - val_loss: 0.0363 - val_acc: 0.9881\n",
      "Epoch 2/2\n",
      "937/937 [==============================] - 321s 343ms/step - loss: 0.0618 - acc: 0.9808 - val_loss: 0.0204 - val_acc: 0.9927\n",
      "10000/10000 [==============================] - 16s 2ms/step\n",
      "\n",
      "Test accuracy:  99.27\n"
     ]
    },
    {
     "data": {
      "image/png": "[encoded data removed]",
      "text/plain": [
       "<matplotlib.figure.Figure at 0x2e2a878da0>"
      ]
     },
     "metadata": {},
     "output_type": "display_data"
    }
   ],
   "source": [
    "main()"
   ]
  },
  {
   "cell_type": "code",
   "execution_count": 10,
   "metadata": {},
   "outputs": [
    {
     "name": "stdout",
     "output_type": "stream",
     "text": [
      "Epoch 1/4\n",
      "937/937 [==============================] - 310s 331ms/step - loss: 0.2078 - acc: 0.9346 - val_loss: 0.0298 - val_acc: 0.9910\n",
      "Epoch 2/4\n",
      "937/937 [==============================] - 304s 325ms/step - loss: 0.0654 - acc: 0.9795 - val_loss: 0.0310 - val_acc: 0.9896\n",
      "Epoch 3/4\n",
      "937/937 [==============================] - 301s 321ms/step - loss: 0.0481 - acc: 0.9859 - val_loss: 0.0202 - val_acc: 0.9923\n",
      "Epoch 4/4\n",
      "937/937 [==============================] - 302s 323ms/step - loss: 0.0428 - acc: 0.9872 - val_loss: 0.0218 - val_acc: 0.9932\n"
     ]
    },
    {
     "data": {
      "text/plain": [
       "<keras.callbacks.History at 0x2e299f9d68>"
      ]
     },
     "execution_count": 10,
     "metadata": {},
     "output_type": "execute_result"
    }
   ],
   "source": []
  },
  {
   "cell_type": "code",
   "execution_count": 11,
   "metadata": {},
   "outputs": [
    {
     "name": "stdout",
     "output_type": "stream",
     "text": [
      "10000/10000 [==============================] - 16s 2ms/step\n",
      "\n",
      "Test accuracy:  99.32\n"
     ]
    }
   ],
   "source": []
  },
  {
   "cell_type": "code",
   "execution_count": null,
   "metadata": {},
   "outputs": [],
   "source": []
  }
 ],
 "metadata": {
  "kernelspec": {
   "display_name": "Python 3",
   "language": "python",
   "name": "python3"
  },
  "language_info": {
   "codemirror_mode": {
    "name": "ipython",
    "version": 3
   },
   "file_extension": ".py",
   "mimetype": "text/x-python",
   "name": "python",
   "nbconvert_exporter": "python",
   "pygments_lexer": "ipython3",
   "version": "3.6.4"
  }
 },
 "nbformat": 4,
 "nbformat_minor": 2
}
