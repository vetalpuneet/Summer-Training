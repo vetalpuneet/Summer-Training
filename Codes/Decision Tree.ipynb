{
 "cells": [
  {
   "cell_type": "code",
   "execution_count": 1,
   "metadata": {},
   "outputs": [
    {
     "name": "stderr",
     "output_type": "stream",
     "text": [
      "C:\\Users\\User\\Anaconda3\\lib\\site-packages\\sklearn\\cross_validation.py:41: DeprecationWarning: This module was deprecated in version 0.18 in favor of the model_selection module into which all the refactored classes and functions are moved. Also note that the interface of the new CV iterators are different from that of this module. This module will be removed in 0.20.\n",
      "  \"This module will be removed in 0.20.\", DeprecationWarning)\n"
     ]
    }
   ],
   "source": [
    "import pandas as pd\n",
    "from sklearn.metrics import confusion_matrix\n",
    "from sklearn.cross_validation import train_test_split\n",
    "from sklearn.tree import DecisionTreeClassifier\n",
    "from sklearn.metrics import accuracy_score\n"
   ]
  },
  {
   "cell_type": "code",
   "execution_count": 2,
   "metadata": {},
   "outputs": [],
   "source": [
    "def train_using_gini(X_train, X_test, y_train):\n",
    " \n",
    "    # Creating the classifier object\n",
    "    clf_gini = DecisionTreeClassifier(criterion = \"gini\",\n",
    "            random_state = 100,max_depth=3, min_samples_leaf=5)\n",
    " \n",
    "    # Performing training\n",
    "    clf_gini.fit(X_train, y_train)\n",
    "    return clf_gini"
   ]
  },
  {
   "cell_type": "code",
   "execution_count": 3,
   "metadata": {},
   "outputs": [],
   "source": [
    "def tarin_using_entropy(X_train, X_test, y_train):\n",
    " \n",
    "    # Decision tree with entropy\n",
    "    clf_entropy = DecisionTreeClassifier(\n",
    "            criterion = \"entropy\", random_state = 100,\n",
    "            max_depth = 3, min_samples_leaf = 5)\n",
    " \n",
    "    # Performing training\n",
    "    clf_entropy.fit(X_train, y_train)\n",
    "    return clf_entropy"
   ]
  },
  {
   "cell_type": "code",
   "execution_count": 4,
   "metadata": {},
   "outputs": [],
   "source": [
    "def prediction(X_test, clf_object):\n",
    " \n",
    "    # Predicton on test with giniIndex\n",
    "    y_pred = clf_object.predict(X_test)\n",
    "    #print(\"Predicted values:\")\n",
    "    #print(y_pred)\n",
    "    return y_pred\n",
    "     "
   ]
  },
  {
   "cell_type": "code",
   "execution_count": 5,
   "metadata": {},
   "outputs": [],
   "source": [
    "def cal_accuracy(y_test, y_pred):\n",
    "     \n",
    "    print(\"Confusion Matrix: \",\n",
    "        confusion_matrix(y_test, y_pred))\n",
    "     \n",
    "    print (\"Accuracy : \",\n",
    "    accuracy_score(y_test,y_pred)*100)\n",
    "     "
   ]
  },
  {
   "cell_type": "code",
   "execution_count": 8,
   "metadata": {},
   "outputs": [],
   "source": [
    "def main():\n",
    "     \n",
    "    # Building Phase\n",
    "    names=['sepal.length','sepal.width','petal.length','petal.width']\n",
    "    dataset=pd.read_csv(\"iris.csv\").values\n",
    "    x=dataset[:,:4]\n",
    "    y=dataset[:,4]\n",
    "    x_train,x_test,y_train,y_test=train_test_split(x,y,test_size=0.3)\n",
    "    clf_gini = train_using_gini(x_train, x_test, y_train)\n",
    "    clf_entropy = tarin_using_entropy(x_train, x_test, y_train)\n",
    "    print(\"Results Using Gini Index:\")\n",
    "    y_pred_gini = prediction(x_test, clf_gini)\n",
    "    cal_accuracy(y_test, y_pred_gini)\n",
    "    print(\"Results Using Entropy:\")\n",
    "    y_pred_entropy = prediction(x_test, clf_entropy)\n",
    "    cal_accuracy(y_test, y_pred_entropy)\n",
    "    \n",
    "    \n",
    "    #from sklearn.externals.six import StringIO  \n",
    "    #from sklearn.tree import export_graphviz\n",
    "    #import pydotplus\n",
    "    \n",
    "    #dot_data = StringIO()\n",
    "\n",
    "    #export_graphviz(clf_entropy, out_file=dot_data,feature_names=names,filled=True, rounded=True,special_characters=True)\n",
    "\n",
    "    #graph = pydotplus.graph_from_dot_data(dot_data.getvalue())  \n",
    "    #graph.write_png('analysis_result.png')\n",
    "\n"
   ]
  },
  {
   "cell_type": "code",
   "execution_count": 9,
   "metadata": {},
   "outputs": [
    {
     "name": "stdout",
     "output_type": "stream",
     "text": [
      "Results Using Gini Index:\n",
      "Confusion Matrix:  [[15  0  0]\n",
      " [ 0 14  2]\n",
      " [ 0  1 13]]\n",
      "Accuracy :  93.33333333333333\n",
      "Results Using Entropy:\n",
      "Confusion Matrix:  [[15  0  0]\n",
      " [ 0 14  2]\n",
      " [ 0  1 13]]\n",
      "Accuracy :  93.33333333333333\n"
     ]
    }
   ],
   "source": [
    "if __name__==\"__main__\":\n",
    "    main()"
   ]
  },
  {
   "cell_type": "code",
   "execution_count": null,
   "metadata": {},
   "outputs": [],
   "source": []
  },
  {
   "cell_type": "code",
   "execution_count": null,
   "metadata": {},
   "outputs": [],
   "source": []
  },
  {
   "cell_type": "code",
   "execution_count": null,
   "metadata": {},
   "outputs": [],
   "source": []
  }
 ],
 "metadata": {
  "kernelspec": {
   "display_name": "Python 3",
   "language": "python",
   "name": "python3"
  },
  "language_info": {
   "codemirror_mode": {
    "name": "ipython",
    "version": 3
   },
   "file_extension": ".py",
   "mimetype": "text/x-python",
   "name": "python",
   "nbconvert_exporter": "python",
   "pygments_lexer": "ipython3",
   "version": "3.6.4"
  }
 },
 "nbformat": 4,
 "nbformat_minor": 2
}
