{
 "cells": [
  {
   "cell_type": "code",
   "execution_count": 5,
   "metadata": {},
   "outputs": [],
   "source": [
    "# question 23\n",
    "\n",
    "def max_of_three(a, b, c):\n",
    "    if(a>b and a>c):\n",
    "        largest = a\n",
    "    elif(b>a and b>c):\n",
    "        largest = b\n",
    "    else:\n",
    "        largest = c\n",
    "    return largest    "
   ]
  },
  {
   "cell_type": "code",
   "execution_count": 6,
   "metadata": {},
   "outputs": [
    {
     "name": "stdout",
     "output_type": "stream",
     "text": [
      "The largest is: 105\n"
     ]
    }
   ],
   "source": [
    "a = 78\n",
    "b = 56\n",
    "c = 105\n",
    "print(\"The largest is: {}\".format(max_of_three(a, b, c)))"
   ]
  },
  {
   "cell_type": "code",
   "execution_count": 15,
   "metadata": {},
   "outputs": [],
   "source": [
    "# question 24\n",
    "\n",
    "def print_horizontal_line():\n",
    "    print('---' * board_size)"
   ]
  },
  {
   "cell_type": "code",
   "execution_count": 18,
   "metadata": {},
   "outputs": [],
   "source": [
    "def print_vertical_line():\n",
    "    print('|  ' * (board_size + 1))"
   ]
  },
  {
   "cell_type": "code",
   "execution_count": 27,
   "metadata": {
    "scrolled": true
   },
   "outputs": [
    {
     "name": "stdout",
     "output_type": "stream",
     "text": [
      "Enter board size: 3\n",
      "---------\n",
      "|  |  |  |  \n",
      "---------\n",
      "|  |  |  |  \n",
      "---------\n",
      "|  |  |  |  \n",
      "---------\n"
     ]
    }
   ],
   "source": [
    "board_size = int(input('Enter board size: '))\n",
    "for ele in range(board_size):\n",
    "    print_horizontal_line()\n",
    "    print_vertical_line()\n",
    "print_horizontal_line()"
   ]
  },
  {
   "cell_type": "code",
   "execution_count": 38,
   "metadata": {},
   "outputs": [],
   "source": [
    "# question 26\n",
    "\n",
    "board = [[1, 2, 0], [2, 1, 0], [2, 1, 1]]\n",
    "\n",
    "winner = {0 : 'Nobody', 1 : 'Player 1', 2 : 'Player 2'}\n",
    "\n",
    "def is_winner():\n",
    "    for ele in range(1, 3):\n",
    "        if board[0] == [ele, ele, ele] or board[1] == [ele, ele, ele] or board[2] == [ele, ele, ele]:\n",
    "            return winner[ele]\n",
    "        elif board[0][0] == ele or board[1][0] == ele or board[2][0] == ele:\n",
    "            return winner[ele]\n",
    "        elif board[0][1] == ele or board[1][1] == ele or board[2][1] == ele:\n",
    "            return winner[ele]\n",
    "        elif board[0][2] == ele or board[1][2] == ele or board[2][2] == ele:\n",
    "            return winner[ele]\n",
    "        elif board[0][0] == ele or board[1][1] == ele or board[2][2] == ele:\n",
    "            return winner[ele]\n",
    "        elif board[0][2] == ele or board[1][1] == ele or board[2][0] == ele:\n",
    "            return winner[ele]\n",
    "        return winner[0]"
   ]
  },
  {
   "cell_type": "code",
   "execution_count": 39,
   "metadata": {},
   "outputs": [
    {
     "name": "stdout",
     "output_type": "stream",
     "text": [
      "The Winning player is: Player 1\n"
     ]
    }
   ],
   "source": [
    "print('The Winning player is: {}'.format(is_winner()))"
   ]
  },
  {
   "cell_type": "code",
   "execution_count": 13,
   "metadata": {},
   "outputs": [],
   "source": [
    "#question 27\n",
    "def move():\n",
    "    for ele in range(1, 10):\n",
    "        r1 = int(input('what is the row ? '))\n",
    "        c1 = int(input('what is the column ? '))\n",
    "        break\n",
    "    if ele % 2 == 0:\n",
    "        game[r1][c1] = 'O'\n",
    "    else:\n",
    "        game[r1][c1] = 'X'\n",
    "    print(game)    "
   ]
  },
  {
   "cell_type": "code",
   "execution_count": 14,
   "metadata": {},
   "outputs": [
    {
     "name": "stdout",
     "output_type": "stream",
     "text": [
      "Before move:  [[0, 0, 0], [0, 0, 0], [0, 0, 0]]\n",
      "what is the row ? 0\n",
      "what is the column ? 0\n",
      "[['X', 0, 0], [0, 0, 0], [0, 0, 0]]\n",
      "After move:  [['X', 0, 0], [0, 0, 0], [0, 0, 0]]\n"
     ]
    }
   ],
   "source": [
    "game = [[0, 0, 0], [0, 0, 0], [0, 0, 0]]\n",
    "print('Before move: ', game)\n",
    "move()\n",
    "print('After move: ', game)"
   ]
  },
  {
   "cell_type": "code",
   "execution_count": 16,
   "metadata": {},
   "outputs": [
    {
     "name": "stdout",
     "output_type": "stream",
     "text": [
      "Enter board size: 3\n",
      "---------\n",
      "|  |  |  |  \n",
      "---------\n",
      "|  |  |  |  \n",
      "---------\n",
      "|  |  |  |  \n",
      "---------\n"
     ]
    }
   ],
   "source": [
    "# question 28 (a)\n",
    "\n",
    "def print_horizontal_line():\n",
    "    print('---' * board_size)\n",
    "def print_vertical_line():\n",
    "    print('|  ' * (board_size + 1))\n",
    "    \n",
    "board_size = int(input('Enter board size: '))\n",
    "for ele in range(board_size):\n",
    "    print_horizontal_line()\n",
    "    print_vertical_line()\n",
    "print_horizontal_line()    "
   ]
  },
  {
   "cell_type": "code",
   "execution_count": 18,
   "metadata": {},
   "outputs": [],
   "source": [
    "# question 28 (b)\n",
    "\n",
    "board = [[1, 2, 0], [2, 1, 0], [2, 1, 1]]\n",
    "\n",
    "winner = {0 : 'Nobody', 1 : 'Player 1', 2 : 'Player 2'}\n",
    "\n",
    "def is_winner():\n",
    "    for ele in range(1, 3):\n",
    "        if board[0] == [ele, ele, ele] or board[1] == [ele, ele, ele] or board[2] == [ele, ele, ele]:\n",
    "            return winner[ele]\n",
    "        elif board[0][0] == ele or board[1][0] == ele or board[2][0] == ele:\n",
    "            return winner[ele]\n",
    "        elif board[0][1] == ele or board[1][1] == ele or board[2][1] == ele:\n",
    "            return winner[ele]\n",
    "        elif board[0][2] == ele or board[1][2] == ele or board[2][2] == ele:\n",
    "            return winner[ele]\n",
    "        elif board[0][0] == ele or board[1][1] == ele or board[2][2] == ele:\n",
    "            return winner[ele]\n",
    "        elif board[0][2] == ele or board[1][1] == ele or board[2][0] == ele:\n",
    "            return winner[ele]\n",
    "        return winner[0]"
   ]
  },
  {
   "cell_type": "code",
   "execution_count": 19,
   "metadata": {},
   "outputs": [
    {
     "name": "stdout",
     "output_type": "stream",
     "text": [
      "The Winning player is: Player 1\n"
     ]
    }
   ],
   "source": [
    "print('The Winning player is: {}'.format(is_winner()))"
   ]
  },
  {
   "cell_type": "code",
   "execution_count": 20,
   "metadata": {},
   "outputs": [],
   "source": [
    "# question 28 (c)\n",
    "\n",
    "def move():\n",
    "    for ele in range(1, 10):\n",
    "        r1 = int(input('what is the row ? '))\n",
    "        c1 = int(input('what is the column ? '))\n",
    "        break\n",
    "    if ele % 2 == 0:\n",
    "        game[r1][c1] = 'O'\n",
    "    else:\n",
    "        game[r1][c1] = 'X'\n",
    "    print(game)   "
   ]
  },
  {
   "cell_type": "code",
   "execution_count": 21,
   "metadata": {},
   "outputs": [
    {
     "name": "stdout",
     "output_type": "stream",
     "text": [
      "Before move:  [[0, 0, 0], [0, 0, 0], [0, 0, 0]]\n",
      "what is the row ? 0\n",
      "what is the column ? 0\n",
      "[['X', 0, 0], [0, 0, 0], [0, 0, 0]]\n",
      "After move:  [['X', 0, 0], [0, 0, 0], [0, 0, 0]]\n"
     ]
    }
   ],
   "source": [
    "game = [[0, 0, 0], [0, 0, 0], [0, 0, 0]]\n",
    "print('Before move: ', game)\n",
    "move()\n",
    "print('After move: ', game)"
   ]
  },
  {
   "cell_type": "code",
   "execution_count": null,
   "metadata": {},
   "outputs": [],
   "source": [
    "# final tic tac toe game\n",
    "\n",
    "def print_horizontal_line():\n",
    "    print('---' * board_size)\n",
    "    \n",
    "def print_vertical_line():\n",
    "    print('|  ' * (board_size + 1))\n",
    "def print_board(board_size):\n",
    "    for ele in range(board_size):\n",
    "        print_horizontal_line()\n",
    "        print_vertical_line()\n",
    "    print_horizontal_line() \n",
    "    \n",
    "\n",
    "def is_winner():\n",
    "    for ele in range(1, 3):\n",
    "        if board[0] == [ele, ele, ele] or board[1] == [ele, ele, ele] or board[2] == [ele, ele, ele]:\n",
    "            return winner[ele]\n",
    "        elif board[0][0] == ele or board[1][0] == ele or board[2][0] == ele:\n",
    "            return winner[ele]\n",
    "        elif board[0][1] == ele or board[1][1] == ele or board[2][1] == ele:\n",
    "            return winner[ele]\n",
    "        elif board[0][2] == ele or board[1][2] == ele or board[2][2] == ele:\n",
    "            return winner[ele]\n",
    "        elif board[0][0] == ele or board[1][1] == ele or board[2][2] == ele:\n",
    "            return winner[ele]\n",
    "        elif board[0][2] == ele or board[1][1] == ele or board[2][0] == ele:\n",
    "            return winner[ele]\n",
    "        return winner[0]\n",
    "\n",
    "def move(k):\n",
    "    r1 = int(input('what is the row ? '))\n",
    "    c1 = int(input('what is the column ? '))\n",
    "    if k % 2 == 0:\n",
    "        board[r1][c1] = 'O'\n",
    "    else:\n",
    "        board[r1][c1] = 'X'\n",
    "    print(board) \n",
    "\n"
   ]
  },
  {
   "cell_type": "code",
   "execution_count": null,
   "metadata": {},
   "outputs": [],
   "source": [
    "board = [[0, 0, 0], [0, 0, 0], [0, 0, 0]]\n",
    "board_size = int(input('Enter board size: '))\n",
    "print_board(board_size)\n",
    "k = 0\n",
    "whiel(k != 10):\n",
    "    move(k)\n",
    "    k = k + 1\n",
    "winner = {0 : 'Nobody', 1 : 'Player 1', 2 : 'Player 2'}\n",
    "print('The Winning player is: {}'.format(is_winner()))"
   ]
  },
  {
   "cell_type": "code",
   "execution_count": 5,
   "metadata": {},
   "outputs": [
    {
     "name": "stdout",
     "output_type": "stream",
     "text": [
      "jfj%bd\n"
     ]
    }
   ],
   "source": [
    "# question 17\n",
    "\n",
    "import random\n",
    "\n",
    "p = 'bdbjbifb%$bdjbjbdbjfhdvgdv'\n",
    "passsword_length = 6\n",
    "r = \"\".join(random.sample(p, passsword_length))\n",
    "print(r)"
   ]
  },
  {
   "cell_type": "code",
   "execution_count": 9,
   "metadata": {},
   "outputs": [
    {
     "ename": "AttributeError",
     "evalue": "module 'pandas' has no attribute 'read_txt'",
     "output_type": "error",
     "traceback": [
      "\u001b[1;31m---------------------------------------------------------------------------\u001b[0m",
      "\u001b[1;31mAttributeError\u001b[0m                            Traceback (most recent call last)",
      "\u001b[1;32m<ipython-input-9-9ea9c4efce18>\u001b[0m in \u001b[0;36m<module>\u001b[1;34m()\u001b[0m\n\u001b[0;32m      1\u001b[0m \u001b[1;31m# question 21\u001b[0m\u001b[1;33m\u001b[0m\u001b[1;33m\u001b[0m\u001b[0m\n\u001b[0;32m      2\u001b[0m \u001b[1;32mimport\u001b[0m \u001b[0mpandas\u001b[0m \u001b[1;32mas\u001b[0m \u001b[0mpd\u001b[0m\u001b[1;33m\u001b[0m\u001b[0m\n\u001b[1;32m----> 3\u001b[1;33m \u001b[0mpd\u001b[0m\u001b[1;33m.\u001b[0m\u001b[0mread_txt\u001b[0m\u001b[1;33m(\u001b[0m\u001b[1;34m'primenumbers.txt'\u001b[0m\u001b[1;33m)\u001b[0m\u001b[1;33m\u001b[0m\u001b[0m\n\u001b[0m\u001b[0;32m      4\u001b[0m \u001b[1;32mdef\u001b[0m \u001b[0mfiletolistofints\u001b[0m\u001b[1;33m(\u001b[0m\u001b[0mfilename\u001b[0m\u001b[1;33m)\u001b[0m\u001b[1;33m:\u001b[0m\u001b[1;33m\u001b[0m\u001b[0m\n\u001b[0;32m      5\u001b[0m         \u001b[0mlist_to_return\u001b[0m \u001b[1;33m=\u001b[0m \u001b[1;33m[\u001b[0m\u001b[1;33m]\u001b[0m\u001b[1;33m\u001b[0m\u001b[0m\n",
      "\u001b[1;31mAttributeError\u001b[0m: module 'pandas' has no attribute 'read_txt'"
     ]
    }
   ],
   "source": [
    "# question 21\n",
    "def filetolistofints(filename):\n",
    "\tlist_to_return = []\n",
    "\twith open(filename) as f:\n",
    "\t\tline = f.readline()\n",
    "\t\twhile line:\n",
    "\t\t\tlist_to_return.append(int(line))\n",
    "\t\t\tline = f.readline()\n",
    "\treturn list_to_return\n",
    "\n",
    "primeslist = filetolistofints('primenumbers.txt')\n",
    "happieslist = filetolistofints('happynumbers.txt')\n",
    "\n",
    "overlaplist = [elem for elem in primeslist if elem in happieslist]\n",
    "print(overlaplist)"
   ]
  },
  {
   "cell_type": "code",
   "execution_count": 28,
   "metadata": {},
   "outputs": [],
   "source": [
    "# question 21\n",
    "\n",
    "def find_num(lst, num):\n",
    "    s_index = 1\n",
    "    e_index = len(lst) - 1\n",
    "  \n",
    "    while True:\n",
    "        m_index = (e_index - s_index) // 2\n",
    "    \n",
    "        if m_index < s_index or m_index > e_index or m_index < 0:\n",
    "            return False\n",
    "    \n",
    "        m_element = lst[m_index]\n",
    "        if m_element == num:\n",
    "            return True\n",
    "        elif m_element < num:\n",
    "            e_index = m_index\n",
    "        else:\n",
    "            s_index = m_index"
   ]
  },
  {
   "cell_type": "code",
   "execution_count": 29,
   "metadata": {},
   "outputs": [
    {
     "name": "stdout",
     "output_type": "stream",
     "text": [
      "False\n",
      "False\n",
      "True\n"
     ]
    }
   ],
   "source": [
    "lst = [6, 4, 7, 9, 2, 8]\n",
    "print(find_num(lst, 5))\n",
    "print(find_num(lst, -6))\n",
    "print(find_num(lst, 7))"
   ]
  },
  {
   "cell_type": "code",
   "execution_count": 34,
   "metadata": {},
   "outputs": [
    {
     "name": "stdout",
     "output_type": "stream",
     "text": [
      "HANGMAN!\n",
      "\n",
      "You have 6 incorrect tries to guess the letters. (USE CAPS LOCK!)\n",
      "\n",
      "_  _  _  _  _  _  Enter your guess: 5\n",
      "---- \n",
      "|  | \n",
      "|  o \n",
      "|    \n",
      "|    \n",
      "The word is...\n",
      "_  _  _  _  _  _  \n",
      "Enter your guess: 4\n",
      "---- \n",
      "|  | \n",
      "|  o \n",
      "| /  \n",
      "|    \n",
      "The word is...\n",
      "_  _  _  _  _  _  \n",
      "Enter your guess: 3\n",
      "---- \n",
      "|  | \n",
      "|  o \n",
      "| / \\\n",
      "|    \n",
      "The word is...\n",
      "_  _  _  _  _  _  \n",
      "Enter your guess: 8\n",
      "---- \n",
      "|  | \n",
      "|  o \n",
      "| /|\\\n",
      "|    \n",
      "The word is...\n",
      "_  _  _  _  _  _  \n",
      "Enter your guess: 1\n",
      "---- \n",
      "|  | \n",
      "|  o \n",
      "| /|\\\n",
      "| /  \n",
      "The word is...\n",
      "_  _  _  _  _  _  \n",
      "Enter your guess: 9\n",
      "---- \n",
      "|  | \n",
      "|  o \n",
      "| /|\\\n",
      "| / \\\n",
      "The word is...\n",
      "_  _  _  _  _  _  \n",
      "Incomplete!\n",
      "The word was  unmard\n",
      "Do you wanna play again (y/n)? n\n"
     ]
    }
   ],
   "source": [
    "# question 30\n",
    "\n",
    "def printHang(n):\n",
    "    gal = [['---- '],\n",
    "           ['|  | '],\n",
    "           ['|    '],\n",
    "           ['|    '],\n",
    "           ['|    ']]\n",
    "    if n < 6:\n",
    "        gal[2] = ['|  o ']\n",
    "    if n < 5:\n",
    "        gal[3] = ['| /  ']\n",
    "    if n < 4:\n",
    "        gal[3] = ['| / \\\\']\n",
    "    if n < 3:\n",
    "        gal[3] = ['| /|\\\\']\n",
    "    if n < 2:\n",
    "        gal[4] = ['| /  ']\n",
    "    if n < 1:\n",
    "        gal[4] = ['| / \\\\']\n",
    "    for i in gal:\n",
    "        print(''.join(i))\n",
    "\n",
    "\n",
    "\n",
    "\n",
    "def word_pick():\n",
    "    import random\n",
    "    return random.choice(open('swopods.txt').read().split()).strip()\n",
    "\n",
    "\n",
    "\n",
    "if __name__==\"__main__\":\n",
    "    \n",
    "    answer='y'\n",
    "    \n",
    "    while answer!='n' and answer!='N':\n",
    "        \n",
    "        new_word = word_pick()\n",
    "    \n",
    "        hidden_word = \"\"\n",
    "    \n",
    "        #for i in new_word:\n",
    "            #print (i + \" \", end=\" \")\n",
    "    \n",
    "        print (\"HANGMAN!\\n\")\n",
    "        print (\"You have 6 incorrect tries to guess the letters. (USE CAPS LOCK!)\\n\")\n",
    "        for i in range(len(new_word)):\n",
    "            print (\"_\" + \" \", end=\" \"),\n",
    "        \n",
    "        chance = True\n",
    "    \n",
    "        count = 0\n",
    "    \n",
    "        used=[]\n",
    "    \n",
    "        while (chance==True and count<6):\n",
    "        \n",
    "            guess = input(\"Enter your guess: \")\n",
    "        \n",
    "            if guess in used:\n",
    "                print (\"Already guessed that one!\")\n",
    "           \n",
    "            side_word=\"\"\n",
    "              \n",
    "            for i in new_word:\n",
    "                if  guess==i:\n",
    "                    side_word += (i + \"  \")\n",
    "                \n",
    "                elif i in used:\n",
    "                    side_word += (i + \"  \")\n",
    "            \n",
    "                elif guess in used:\n",
    "                    side_word += \"_  \"\n",
    "                                                       \n",
    "                else:\n",
    "                    side_word += \"_  \"\n",
    "       \n",
    "            if guess in new_word:\n",
    "                if used.count(guess)<1:\n",
    "                    used.append(guess)\n",
    "        \n",
    "            if guess not in new_word:\n",
    "                count+=1\n",
    "                printHang((6-count))\n",
    "        \n",
    "                \n",
    "            print(\"The word is...\")\n",
    "            print(side_word)\n",
    "        \n",
    "            hidden_word = side_word\n",
    "        \n",
    "            if \"_\" in hidden_word:\n",
    "                chance = True\n",
    "            else:\n",
    "                chance = False\n",
    "    \n",
    "        hidden_word = [x for x in hidden_word if x.isalpha()]\n",
    "        hd=\"\"\n",
    "        for k in hidden_word:\n",
    "            hd += k\n",
    "    \n",
    "        if hd==new_word:\n",
    "            print (\"You won!\")\n",
    "            print (\"Won with %s tries remaining.\"%(6-count))\n",
    "        else:\n",
    "            print (\"Incomplete!\")\n",
    "            print (\"The word was \",new_word)\n",
    "        \n",
    "        answer=input(\"Do you wanna play again (y/n)? \")\n",
    "        \n",
    "            \n"
   ]
  },
  {
   "cell_type": "code",
   "execution_count": 44,
   "metadata": {},
   "outputs": [
    {
     "name": "stdout",
     "output_type": "stream",
     "text": [
      "Welcome to Hangman!\n",
      "Guess your letter: 5\n",
      "_ _ _ _ _ _ _ _ _ _ _\n",
      "You have 5 guesses left\n",
      "Guess your letter: 6\n",
      "_ _ _ _ _ _ _ _ _ _ _\n",
      "You have 4 guesses left\n",
      "Guess your letter: 4\n",
      "_ _ _ _ _ _ _ _ _ _ _\n",
      "You have 3 guesses left\n",
      "Guess your letter: 1\n",
      "_ _ _ _ _ _ _ _ _ _ _\n",
      "You have 2 guesses left\n",
      "Guess your letter: 2\n",
      "_ _ _ _ _ _ _ _ _ _ _\n",
      "You have 1 guesses left\n",
      "Guess your letter: 9\n",
      "_ _ _ _ _ _ _ _ _ _ _\n",
      "You have 0 guesses left\n",
      "Sorry, you lost! Your word was typologists\n"
     ]
    }
   ],
   "source": [
    "# question 31\n",
    "\n",
    "import random\n",
    "\n",
    "def pick_random_word():\n",
    "\t\"\"\"\n",
    "\tThis function picks a random word from the SOWPODS\n",
    "\tdictionary. \n",
    "\t\"\"\"\n",
    "\t# open the sowpods dictionary\n",
    "\twith open(\"swopods.txt\", 'r') as f:\n",
    "\t\twords = f.readlines()\n",
    "\n",
    "\t# generate a random index\n",
    "\t# -1 because len(words) is not a valid index into the list `words`\n",
    "\tindex = random.randint(0, len(words) - 1)\n",
    "\n",
    "\t# print out the word at that index\n",
    "\tword = words[index].strip()\n",
    "\treturn word\n",
    "\n",
    "\n",
    "def ask_user_for_next_letter():\n",
    "\tletter = input(\"Guess your letter: \")\n",
    "\treturn letter.strip().upper()\n",
    "\n",
    "\n",
    "def generate_word_string(word, letters_guessed):\n",
    "\toutput = []\n",
    "\tfor letter in word:\n",
    "\t\tif letter in letters_guessed:\n",
    "\t\t\toutput.append(letter.upper())\n",
    "\t\telse:\n",
    "\t\t\toutput.append(\"_\")\n",
    "\treturn \" \".join(output)\n",
    "\n",
    "\n",
    "if __name__ == '__main__':\n",
    "\tWORD = pick_random_word()\n",
    "\n",
    "\tletters_to_guess = set(WORD)\n",
    "\tcorrect_letters_guessed = set()\n",
    "\tincorrect_letters_guessed = set()\n",
    "\tnum_guesses = 0\n",
    "\n",
    "\tprint(\"Welcome to Hangman!\")\n",
    "\twhile (len(letters_to_guess) > 0) and num_guesses < 6:\n",
    "\t\tguess = ask_user_for_next_letter()\n",
    "\n",
    "\t\t# check if we already guessed that\n",
    "\t\t# letter\n",
    "\t\tif guess in correct_letters_guessed or \\\n",
    "\t\t\t\tguess in incorrect_letters_guessed:\n",
    "\t\t\t# print out a message\n",
    "\t\t\tprint(\"You already guessed that letter.\")\n",
    "\t\t\tcontinue\n",
    "\n",
    "\t\t# if the guess was correct\n",
    "\t\tif guess in letters_to_guess:\n",
    "\t\t\t# update the letters_to_guess\n",
    "\t\t\tletters_to_guess.remove(guess)\n",
    "\t\t\t# update the correct letters guessed\n",
    "\t\t\tcorrect_letters_guessed.add(guess)\n",
    "\t\telse:\n",
    "\t\t\tincorrect_letters_guessed.add(guess)\n",
    "\t\t\t# only update the number of guesses\n",
    "\t\t\t# if you guess incorrectly\n",
    "\t\t\tnum_guesses += 1\n",
    "\n",
    "\t\tword_string = generate_word_string(WORD, correct_letters_guessed)\n",
    "\t\tprint(word_string)\n",
    "\t\tprint(\"You have {} guesses left\".format(6 - num_guesses))\n",
    "\n",
    "\t# tell the user they have won or lost\n",
    "\tif num_guesses < 6:\n",
    "\t\tprint(\"Congratulations! You correctly guessed the word {}\".format(WORD))\n",
    "\telse:\n",
    "\t\tprint(\"Sorry, you lost! Your word was {}\".format(WORD))\n"
   ]
  },
  {
   "cell_type": "code",
   "execution_count": 45,
   "metadata": {},
   "outputs": [
    {
     "name": "stdout",
     "output_type": "stream",
     "text": [
      "siphuncles\n"
     ]
    }
   ],
   "source": [
    "# question 29\n",
    "\n",
    "import random\n",
    "\n",
    "with open('swopods.txt') as g:\n",
    "    words = list(g)\n",
    "print(random.choice(words).strip())    "
   ]
  },
  {
   "cell_type": "code",
   "execution_count": 1,
   "metadata": {},
   "outputs": [],
   "source": [
    "# question 14\n",
    "\n",
    "def is_palindrome(string):\n",
    "    result = reversed(string)\n",
    "    if(list(string)) == (list(result)):\n",
    "        return True\n",
    "    else:\n",
    "        return False\n",
    "    "
   ]
  },
  {
   "cell_type": "code",
   "execution_count": 2,
   "metadata": {},
   "outputs": [
    {
     "data": {
      "text/plain": [
       "True"
      ]
     },
     "execution_count": 2,
     "metadata": {},
     "output_type": "execute_result"
    }
   ],
   "source": [
    "string = \"radar\"\n",
    "is_palindrome(string)"
   ]
  },
  {
   "cell_type": "code",
   "execution_count": 3,
   "metadata": {},
   "outputs": [],
   "source": [
    "# question 15\n",
    "\n",
    "def is_member(x, lst):\n",
    "    if x in lst:\n",
    "            return True\n",
    "    else:\n",
    "            return False"
   ]
  },
  {
   "cell_type": "code",
   "execution_count": 4,
   "metadata": {},
   "outputs": [
    {
     "data": {
      "text/plain": [
       "True"
      ]
     },
     "execution_count": 4,
     "metadata": {},
     "output_type": "execute_result"
    }
   ],
   "source": [
    "lst = [4, 5, 6]\n",
    "is_member(5, lst)"
   ]
  },
  {
   "cell_type": "code",
   "execution_count": 5,
   "metadata": {},
   "outputs": [],
   "source": [
    "# question 19\n",
    "\n",
    "def max_of_three(num1, num2, num3):\n",
    "    if(num1 >= num2) and (num1 >= num3):\n",
    "        largest = num1\n",
    "    elif (num2 >= num1) and (num2 >= num3):\n",
    "        largest = num2\n",
    "    else:\n",
    "        largest = num3\n",
    "    print(\"The largest number is: {}\" .format(largest) )    "
   ]
  },
  {
   "cell_type": "code",
   "execution_count": 6,
   "metadata": {},
   "outputs": [
    {
     "name": "stdout",
     "output_type": "stream",
     "text": [
      "The largest number is: 40\n"
     ]
    }
   ],
   "source": [
    "max_of_three(40, 20, 30)"
   ]
  },
  {
   "cell_type": "code",
   "execution_count": 7,
   "metadata": {},
   "outputs": [],
   "source": [
    "# question 10\n",
    "\n",
    "def is_vowel(string):\n",
    "    lst = [ 'a', 'e',  'i',  'o',  'u']\n",
    "    if string in lst:\n",
    "        return True\n",
    "    else:\n",
    "        return False"
   ]
  },
  {
   "cell_type": "code",
   "execution_count": 8,
   "metadata": {},
   "outputs": [
    {
     "data": {
      "text/plain": [
       "True"
      ]
     },
     "execution_count": 8,
     "metadata": {},
     "output_type": "execute_result"
    }
   ],
   "source": [
    "string = 'a'\n",
    "is_vowel(string)"
   ]
  },
  {
   "cell_type": "code",
   "execution_count": 9,
   "metadata": {},
   "outputs": [],
   "source": [
    "# question 12\n",
    "\n",
    "def sum(lst):\n",
    "    s = 0\n",
    "    for ele in lst:\n",
    "        s += ele\n",
    "    print(\"The sum is: {}\" . format(s))\n",
    "\n",
    "def multiply(lst):\n",
    "    m = 1\n",
    "    for ele in lst:\n",
    "        m *= ele\n",
    "    print(\"The product is: {}\" . format(m))"
   ]
  },
  {
   "cell_type": "code",
   "execution_count": 10,
   "metadata": {},
   "outputs": [
    {
     "name": "stdout",
     "output_type": "stream",
     "text": [
      "The sum is: 25\n",
      "The product is: 1372\n"
     ]
    }
   ],
   "source": [
    "lst = [7,4,7,7]\n",
    "sum(lst)\n",
    "\n",
    "multiply(lst)"
   ]
  },
  {
   "cell_type": "code",
   "execution_count": 11,
   "metadata": {},
   "outputs": [],
   "source": [
    "# question 13\n",
    "\n",
    "def reverse(s):\n",
    "  str = \"\"\n",
    "  for i in s:\n",
    "    str = i + str\n",
    "  return str"
   ]
  },
  {
   "cell_type": "code",
   "execution_count": 12,
   "metadata": {},
   "outputs": [
    {
     "name": "stdout",
     "output_type": "stream",
     "text": [
      "gnitset ma I\n"
     ]
    }
   ],
   "source": [
    "string = \"I am testing\"\n",
    "print (reverse(string))"
   ]
  },
  {
   "cell_type": "code",
   "execution_count": 13,
   "metadata": {},
   "outputs": [],
   "source": [
    "# question 19\n",
    "\n",
    "def max_in_list(lst):\n",
    "    max = -1\n",
    "    for ele in lst:\n",
    "        if ele >= max:\n",
    "            max = ele\n",
    "    print(\"The greatest element is: {}\".format(max))        \n",
    "    "
   ]
  },
  {
   "cell_type": "code",
   "execution_count": 14,
   "metadata": {},
   "outputs": [
    {
     "name": "stdout",
     "output_type": "stream",
     "text": [
      "The greatest element is: -1\n"
     ]
    }
   ],
   "source": [
    "max_in_list([-2, -45, -9])"
   ]
  },
  {
   "cell_type": "code",
   "execution_count": 15,
   "metadata": {},
   "outputs": [],
   "source": [
    "# question 21\n",
    "\n",
    "def find_longest_word(lst):\n",
    "    max = len(lst[0])\n",
    "    for ele in lst:\n",
    "        if len(ele) > max:\n",
    "              max = len(ele)\n",
    "    return max        \n",
    "        "
   ]
  },
  {
   "cell_type": "code",
   "execution_count": 16,
   "metadata": {},
   "outputs": [
    {
     "data": {
      "text/plain": [
       "6"
      ]
     },
     "execution_count": 16,
     "metadata": {},
     "output_type": "execute_result"
    }
   ],
   "source": [
    "lst = ['Hello', 'Puneet', 'Vetal']\n",
    "find_longest_word(lst)"
   ]
  },
  {
   "cell_type": "code",
   "execution_count": 17,
   "metadata": {},
   "outputs": [
    {
     "name": "stdout",
     "output_type": "stream",
     "text": [
      "0.5\n",
      "0.3333333333333333\n",
      "0.25\n",
      "0.2\n",
      "0.16666666666666666\n",
      "0.14285714285714285\n",
      "0.125\n",
      "0.1111111111111111\n",
      "0.1\n"
     ]
    }
   ],
   "source": [
    "# question 1\n",
    "for ele in range(2, 11):\n",
    "    print(1 / ele)"
   ]
  },
  {
   "cell_type": "code",
   "execution_count": 18,
   "metadata": {},
   "outputs": [],
   "source": [
    "# question 5\n",
    "\n",
    "def reduce(max_in_lst, lst):\n",
    "    max_in_lst(lst)\n",
    "\n",
    "def max_in_lst(lst):\n",
    "    max = -1\n",
    "    for ele in lst:\n",
    "        if ele >= max:\n",
    "            max = ele\n",
    "    print(\"The maximum element is: {}\".format(max))        "
   ]
  },
  {
   "cell_type": "code",
   "execution_count": 19,
   "metadata": {},
   "outputs": [
    {
     "name": "stdout",
     "output_type": "stream",
     "text": [
      "The greatest element is: 8\n"
     ]
    }
   ],
   "source": [
    "lst = [3, 5, 8]\n",
    "reduce(max_in_list, lst)"
   ]
  },
  {
   "cell_type": "code",
   "execution_count": 20,
   "metadata": {},
   "outputs": [],
   "source": [
    "# question 7\n",
    "\n",
    "def high_order_fun(find_longest_word, lst):\n",
    "    find_longest_word(lst)\n",
    "    \n",
    "def find_longest_word(lst):\n",
    "    max = len(lst[0])\n",
    "    for ele in lst:\n",
    "        if len(ele) > max:\n",
    "            max = len(ele)\n",
    "    return max        "
   ]
  },
  {
   "cell_type": "code",
   "execution_count": 21,
   "metadata": {},
   "outputs": [
    {
     "data": {
      "text/plain": [
       "8"
      ]
     },
     "execution_count": 21,
     "metadata": {},
     "output_type": "execute_result"
    }
   ],
   "source": [
    "lst = [\"Aditya\", \"Shailesh\", \"Puneet\"]\n",
    "find_longest_word(lst)"
   ]
  },
  {
   "cell_type": "code",
   "execution_count": 22,
   "metadata": {},
   "outputs": [],
   "source": [
    "# question 8\n",
    "\n",
    "def filter(filter_long_words, lst):\n",
    "    filter_long_words(lst, n)\n",
    " \n",
    "def filter_long_words(lst, n):\n",
    "    max = len(lst[0])\n",
    "    for ele in lst:\n",
    "        if len(ele) > n:\n",
    "            print(ele)"
   ]
  },
  {
   "cell_type": "code",
   "execution_count": 23,
   "metadata": {},
   "outputs": [
    {
     "name": "stdout",
     "output_type": "stream",
     "text": [
      "Puneet\n",
      "jddghdds\n"
     ]
    }
   ],
   "source": [
    "lst = [\"Puneet\", \"Puns\", \"jddghdds\"]\n",
    "filter_long_words(lst, 4)"
   ]
  },
  {
   "cell_type": "code",
   "execution_count": 24,
   "metadata": {},
   "outputs": [],
   "source": [
    "# question 16\n",
    "\n",
    "def overlapping(lst1, lst2):\n",
    "    for i in lst1:\n",
    "        for ele in lst2:\n",
    "            if i == ele:\n",
    "                return True\n",
    "    return False"
   ]
  },
  {
   "cell_type": "code",
   "execution_count": 25,
   "metadata": {},
   "outputs": [
    {
     "data": {
      "text/plain": [
       "True"
      ]
     },
     "execution_count": 25,
     "metadata": {},
     "output_type": "execute_result"
    }
   ],
   "source": [
    "lst1 = [3, 5, 7, 5]\n",
    "lst2 = [5, 4, 1, 9]\n",
    "overlapping(lst1, lst2)"
   ]
  },
  {
   "cell_type": "code",
   "execution_count": 26,
   "metadata": {},
   "outputs": [],
   "source": [
    "# question 17\n",
    "\n",
    "def generate_n_chars(n, c):\n",
    "    print(c * n)"
   ]
  },
  {
   "cell_type": "code",
   "execution_count": 27,
   "metadata": {},
   "outputs": [
    {
     "name": "stdout",
     "output_type": "stream",
     "text": [
      "xxxxx\n"
     ]
    }
   ],
   "source": [
    "generate_n_chars(5, 'x')"
   ]
  },
  {
   "cell_type": "code",
   "execution_count": 28,
   "metadata": {},
   "outputs": [],
   "source": [
    "# question 18\n",
    "\n",
    "def histogram(lst):\n",
    "    for ele in lst:\n",
    "        print('*' * ele)"
   ]
  },
  {
   "cell_type": "code",
   "execution_count": 29,
   "metadata": {},
   "outputs": [
    {
     "name": "stdout",
     "output_type": "stream",
     "text": [
      "****\n",
      "*********\n",
      "*******\n"
     ]
    }
   ],
   "source": [
    "lst = [4, 9, 7]\n",
    "histogram(lst)"
   ]
  },
  {
   "cell_type": "code",
   "execution_count": 30,
   "metadata": {},
   "outputs": [],
   "source": [
    "# question 6 part (1)\n",
    "\n",
    "def use_loop(lst):\n",
    "    lst1 = []\n",
    "    for ele in lst:\n",
    "        lst1.append(len(ele))\n",
    "    print(lst1)"
   ]
  },
  {
   "cell_type": "code",
   "execution_count": 31,
   "metadata": {},
   "outputs": [
    {
     "name": "stdout",
     "output_type": "stream",
     "text": [
      "[3, 4, 5]\n"
     ]
    }
   ],
   "source": [
    "lst = ['Raj', 'True', 'False']\n",
    "use_loop(lst)"
   ]
  },
  {
   "cell_type": "code",
   "execution_count": 32,
   "metadata": {},
   "outputs": [],
   "source": [
    "# question 6 part (2)\n",
    "\n",
    "def map(use_loop, lst):\n",
    "    use_loop(lst)\n",
    "\n",
    "def use_loop(lst):\n",
    "    lst2 = []\n",
    "    for i in lst:\n",
    "        lst2.append(len(i))\n",
    "    print(lst2)    "
   ]
  },
  {
   "cell_type": "code",
   "execution_count": 33,
   "metadata": {},
   "outputs": [
    {
     "name": "stdout",
     "output_type": "stream",
     "text": [
      "[6, 9]\n"
     ]
    }
   ],
   "source": [
    "lst = ['Mumbai', 'New delhi']\n",
    "use_loop(lst)"
   ]
  },
  {
   "cell_type": "code",
   "execution_count": 34,
   "metadata": {},
   "outputs": [],
   "source": [
    "# question 6 part (3)\n",
    "\n",
    "def using_list_comprehension(lst):\n",
    "    lst1 = [len(i) for i in lst]\n",
    "    print(lst1)"
   ]
  },
  {
   "cell_type": "code",
   "execution_count": 35,
   "metadata": {},
   "outputs": [
    {
     "name": "stdout",
     "output_type": "stream",
     "text": [
      "[6, 5, 4, 3]\n"
     ]
    }
   ],
   "source": [
    "lst = ['Bandra', 'Lanka', 'Juhu', 'BHU']\n",
    "using_list_comprehension(lst)"
   ]
  },
  {
   "cell_type": "code",
   "execution_count": 36,
   "metadata": {},
   "outputs": [],
   "source": [
    "# question 20\n",
    "\n",
    "def fun(lst):\n",
    "    lst1 = []\n",
    "    for ele in lst:\n",
    "        lst1.append(len(ele))\n",
    "    print(lst1)"
   ]
  },
  {
   "cell_type": "code",
   "execution_count": 37,
   "metadata": {},
   "outputs": [
    {
     "name": "stdout",
     "output_type": "stream",
     "text": [
      "[7, 8, 6]\n"
     ]
    }
   ],
   "source": [
    "lst = ['Cricket', 'Football', 'Hockey']\n",
    "fun(lst)"
   ]
  },
  {
   "cell_type": "code",
   "execution_count": 38,
   "metadata": {},
   "outputs": [],
   "source": [
    "# question 22\n",
    "\n",
    "def filter_long_words(lst,n):\n",
    "    max = len(lst[0])\n",
    "    for ele in lst:\n",
    "        if len(ele) > n:\n",
    "            print(ele)"
   ]
  },
  {
   "cell_type": "code",
   "execution_count": 39,
   "metadata": {},
   "outputs": [
    {
     "name": "stdout",
     "output_type": "stream",
     "text": [
      "Melbourne\n"
     ]
    }
   ],
   "source": [
    "lst = ['Denmark', 'Chicago', 'Sydney', 'Melbourne']\n",
    "filter_long_words(lst, 7)"
   ]
  },
  {
   "cell_type": "code",
   "execution_count": 40,
   "metadata": {},
   "outputs": [],
   "source": [
    "# question 26\n",
    "\n",
    "def common(lst1, lst2):\n",
    "    lst3 = []\n",
    "    for ele in lst1:\n",
    "        for i in lst2:\n",
    "            if ele == i:\n",
    "                lst3.append(ele)\n",
    "    print(lst3)           "
   ]
  },
  {
   "cell_type": "code",
   "execution_count": 41,
   "metadata": {},
   "outputs": [
    {
     "name": "stdout",
     "output_type": "stream",
     "text": [
      "[1, 1, 2, 3, 5, 8, 13]\n"
     ]
    }
   ],
   "source": [
    "lst1 = [1, 1, 2, 3, 5, 8, 13, 21, 34, 55, 89]\n",
    "lst2 = [1, 2, 3, 4, 5, 6, 7, 8, 9, 10, 11, 12, 13]\n",
    "common(lst1, lst2)"
   ]
  },
  {
   "cell_type": "code",
   "execution_count": 42,
   "metadata": {},
   "outputs": [],
   "source": [
    "# question 27\n",
    "\n",
    "import math\n",
    "def quadratic_equation(a, b, c):\n",
    "    c = (b ** 2) - (4 * a * c)\n",
    "    if a == 0 and c < 0:\n",
    "        print(\"Error message\")\n",
    "    else:\n",
    "         sqrt_val = math.sqrt(abs(c))\n",
    "         print((-b + sqrt_val)/(2 * a))\n",
    "         print((-b - sqrt_val)/(2 * a))   "
   ]
  },
  {
   "cell_type": "code",
   "execution_count": 43,
   "metadata": {},
   "outputs": [
    {
     "name": "stdout",
     "output_type": "stream",
     "text": [
      "4.0\n",
      "3.0\n"
     ]
    }
   ],
   "source": [
    "a = 1\n",
    "b = -7\n",
    "c = 12\n",
    "quadratic_equation(a, b, c)"
   ]
  },
  {
   "cell_type": "code",
   "execution_count": null,
   "metadata": {},
   "outputs": [],
   "source": []
  }
 ],
 "metadata": {
  "kernelspec": {
   "display_name": "Python 3",
   "language": "python",
   "name": "python3"
  },
  "language_info": {
   "codemirror_mode": {
    "name": "ipython",
    "version": 3
   },
   "file_extension": ".py",
   "mimetype": "text/x-python",
   "name": "python",
   "nbconvert_exporter": "python",
   "pygments_lexer": "ipython3",
   "version": "3.6.4"
  }
 },
 "nbformat": 4,
 "nbformat_minor": 2
}
